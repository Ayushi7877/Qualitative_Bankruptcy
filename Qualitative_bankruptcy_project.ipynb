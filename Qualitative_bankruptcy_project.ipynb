{
  "nbformat": 4,
  "nbformat_minor": 0,
  "metadata": {
    "colab": {
      "name": "Qualitative_bankruptcy project.ipynb",
      "provenance": [],
      "collapsed_sections": [],
      "toc_visible": true,
      "include_colab_link": true
    },
    "kernelspec": {
      "name": "python3",
      "display_name": "Python 3"
    },
    "language_info": {
      "name": "python"
    }
  },
  "cells": [
    {
      "cell_type": "markdown",
      "metadata": {
        "id": "view-in-github",
        "colab_type": "text"
      },
      "source": [
        "<a href=\"https://colab.research.google.com/github/Ayushi7877/Qualitative_Bankruptcy/blob/main/Qualitative_bankruptcy_project.ipynb\" target=\"_parent\"><img src=\"https://colab.research.google.com/assets/colab-badge.svg\" alt=\"Open In Colab\"/></a>"
      ]
    },
    {
      "cell_type": "code",
      "metadata": {
        "id": "69rhWoTS7B-I",
        "colab": {
          "base_uri": "https://localhost:8080/"
        },
        "outputId": "a94bd222-7d6b-4f03-d5c5-357eb327123e"
      },
      "source": [
        "import pandas as pd\n",
        "df=pd.read_csv('/content/qualitative_bankruptcy dataset.csv')\n",
        "df.columns=['IR','MR','FF','CR','CO','OP','Class']\n",
        "print(df)"
      ],
      "execution_count": null,
      "outputs": [
        {
          "output_type": "stream",
          "text": [
            "    IR MR FF CR CO OP Class\n",
            "0    P  P  A  A  A  P    NB\n",
            "1    N  N  A  A  A  N    NB\n",
            "2    A  A  A  A  A  A    NB\n",
            "3    P  P  P  P  P  P    NB\n",
            "4    N  N  P  P  P  N    NB\n",
            "..  .. .. .. .. .. ..   ...\n",
            "245  N  N  A  N  N  N     B\n",
            "246  P  N  N  N  N  N     B\n",
            "247  A  N  N  N  N  N     B\n",
            "248  N  N  N  N  N  N     B\n",
            "249  P  N  N  N  A  A     B\n",
            "\n",
            "[250 rows x 7 columns]\n"
          ],
          "name": "stdout"
        }
      ]
    },
    {
      "cell_type": "code",
      "metadata": {
        "colab": {
          "base_uri": "https://localhost:8080/"
        },
        "id": "wl0b101I_nVp",
        "outputId": "cfe93c71-8a83-479e-90e5-564e2d2a1a09"
      },
      "source": [
        "print(df.info()) # information about dataset\n",
        "print(df.describe())"
      ],
      "execution_count": null,
      "outputs": [
        {
          "output_type": "stream",
          "text": [
            "<class 'pandas.core.frame.DataFrame'>\n",
            "RangeIndex: 250 entries, 0 to 249\n",
            "Data columns (total 7 columns):\n",
            " #   Column  Non-Null Count  Dtype \n",
            "---  ------  --------------  ----- \n",
            " 0   IR      250 non-null    object\n",
            " 1   MR      250 non-null    object\n",
            " 2   FF      250 non-null    object\n",
            " 3   CR      250 non-null    object\n",
            " 4   CO      250 non-null    object\n",
            " 5   OP      250 non-null    object\n",
            " 6   Class   250 non-null    object\n",
            "dtypes: object(7)\n",
            "memory usage: 13.8+ KB\n",
            "None\n",
            "         IR   MR   FF   CR   CO   OP Class\n",
            "count   250  250  250  250  250  250   250\n",
            "unique    3    3    3    3    3    3     2\n",
            "top       N    N    N    N    N    N    NB\n",
            "freq     89  119  119   94  103  114   143\n"
          ],
          "name": "stdout"
        }
      ]
    },
    {
      "cell_type": "code",
      "metadata": {
        "colab": {
          "base_uri": "https://localhost:8080/",
          "height": 195
        },
        "id": "LBWGhMxr_vtg",
        "outputId": "f854cee3-0c0f-49fa-ae4e-ff5ffd413f2e"
      },
      "source": [
        "df.head()\n"
      ],
      "execution_count": null,
      "outputs": [
        {
          "output_type": "execute_result",
          "data": {
            "text/html": [
              "<div>\n",
              "<style scoped>\n",
              "    .dataframe tbody tr th:only-of-type {\n",
              "        vertical-align: middle;\n",
              "    }\n",
              "\n",
              "    .dataframe tbody tr th {\n",
              "        vertical-align: top;\n",
              "    }\n",
              "\n",
              "    .dataframe thead th {\n",
              "        text-align: right;\n",
              "    }\n",
              "</style>\n",
              "<table border=\"1\" class=\"dataframe\">\n",
              "  <thead>\n",
              "    <tr style=\"text-align: right;\">\n",
              "      <th></th>\n",
              "      <th>IR</th>\n",
              "      <th>MR</th>\n",
              "      <th>FF</th>\n",
              "      <th>CR</th>\n",
              "      <th>CO</th>\n",
              "      <th>OP</th>\n",
              "      <th>Class</th>\n",
              "    </tr>\n",
              "  </thead>\n",
              "  <tbody>\n",
              "    <tr>\n",
              "      <th>0</th>\n",
              "      <td>P</td>\n",
              "      <td>P</td>\n",
              "      <td>A</td>\n",
              "      <td>A</td>\n",
              "      <td>A</td>\n",
              "      <td>P</td>\n",
              "      <td>NB</td>\n",
              "    </tr>\n",
              "    <tr>\n",
              "      <th>1</th>\n",
              "      <td>N</td>\n",
              "      <td>N</td>\n",
              "      <td>A</td>\n",
              "      <td>A</td>\n",
              "      <td>A</td>\n",
              "      <td>N</td>\n",
              "      <td>NB</td>\n",
              "    </tr>\n",
              "    <tr>\n",
              "      <th>2</th>\n",
              "      <td>A</td>\n",
              "      <td>A</td>\n",
              "      <td>A</td>\n",
              "      <td>A</td>\n",
              "      <td>A</td>\n",
              "      <td>A</td>\n",
              "      <td>NB</td>\n",
              "    </tr>\n",
              "    <tr>\n",
              "      <th>3</th>\n",
              "      <td>P</td>\n",
              "      <td>P</td>\n",
              "      <td>P</td>\n",
              "      <td>P</td>\n",
              "      <td>P</td>\n",
              "      <td>P</td>\n",
              "      <td>NB</td>\n",
              "    </tr>\n",
              "    <tr>\n",
              "      <th>4</th>\n",
              "      <td>N</td>\n",
              "      <td>N</td>\n",
              "      <td>P</td>\n",
              "      <td>P</td>\n",
              "      <td>P</td>\n",
              "      <td>N</td>\n",
              "      <td>NB</td>\n",
              "    </tr>\n",
              "  </tbody>\n",
              "</table>\n",
              "</div>"
            ],
            "text/plain": [
              "  IR MR FF CR CO OP Class\n",
              "0  P  P  A  A  A  P    NB\n",
              "1  N  N  A  A  A  N    NB\n",
              "2  A  A  A  A  A  A    NB\n",
              "3  P  P  P  P  P  P    NB\n",
              "4  N  N  P  P  P  N    NB"
            ]
          },
          "metadata": {
            "tags": []
          },
          "execution_count": 7
        }
      ]
    },
    {
      "cell_type": "code",
      "metadata": {
        "colab": {
          "base_uri": "https://localhost:8080/"
        },
        "id": "70xADi7G_-SO",
        "outputId": "b8e4efb8-6708-451b-dac5-f443d3fab821"
      },
      "source": [
        "df.values.shape"
      ],
      "execution_count": null,
      "outputs": [
        {
          "output_type": "execute_result",
          "data": {
            "text/plain": [
              "(250, 7)"
            ]
          },
          "metadata": {
            "tags": []
          },
          "execution_count": 8
        }
      ]
    },
    {
      "cell_type": "code",
      "metadata": {
        "colab": {
          "base_uri": "https://localhost:8080/",
          "height": 402
        },
        "id": "wYhgE06mAChy",
        "outputId": "37053040-47b9-4554-fa1c-0e798af61cea"
      },
      "source": [
        "df.isnull()"
      ],
      "execution_count": null,
      "outputs": [
        {
          "output_type": "execute_result",
          "data": {
            "text/html": [
              "<div>\n",
              "<style scoped>\n",
              "    .dataframe tbody tr th:only-of-type {\n",
              "        vertical-align: middle;\n",
              "    }\n",
              "\n",
              "    .dataframe tbody tr th {\n",
              "        vertical-align: top;\n",
              "    }\n",
              "\n",
              "    .dataframe thead th {\n",
              "        text-align: right;\n",
              "    }\n",
              "</style>\n",
              "<table border=\"1\" class=\"dataframe\">\n",
              "  <thead>\n",
              "    <tr style=\"text-align: right;\">\n",
              "      <th></th>\n",
              "      <th>IR</th>\n",
              "      <th>MR</th>\n",
              "      <th>FF</th>\n",
              "      <th>CR</th>\n",
              "      <th>CO</th>\n",
              "      <th>OP</th>\n",
              "      <th>Class</th>\n",
              "    </tr>\n",
              "  </thead>\n",
              "  <tbody>\n",
              "    <tr>\n",
              "      <th>0</th>\n",
              "      <td>False</td>\n",
              "      <td>False</td>\n",
              "      <td>False</td>\n",
              "      <td>False</td>\n",
              "      <td>False</td>\n",
              "      <td>False</td>\n",
              "      <td>False</td>\n",
              "    </tr>\n",
              "    <tr>\n",
              "      <th>1</th>\n",
              "      <td>False</td>\n",
              "      <td>False</td>\n",
              "      <td>False</td>\n",
              "      <td>False</td>\n",
              "      <td>False</td>\n",
              "      <td>False</td>\n",
              "      <td>False</td>\n",
              "    </tr>\n",
              "    <tr>\n",
              "      <th>2</th>\n",
              "      <td>False</td>\n",
              "      <td>False</td>\n",
              "      <td>False</td>\n",
              "      <td>False</td>\n",
              "      <td>False</td>\n",
              "      <td>False</td>\n",
              "      <td>False</td>\n",
              "    </tr>\n",
              "    <tr>\n",
              "      <th>3</th>\n",
              "      <td>False</td>\n",
              "      <td>False</td>\n",
              "      <td>False</td>\n",
              "      <td>False</td>\n",
              "      <td>False</td>\n",
              "      <td>False</td>\n",
              "      <td>False</td>\n",
              "    </tr>\n",
              "    <tr>\n",
              "      <th>4</th>\n",
              "      <td>False</td>\n",
              "      <td>False</td>\n",
              "      <td>False</td>\n",
              "      <td>False</td>\n",
              "      <td>False</td>\n",
              "      <td>False</td>\n",
              "      <td>False</td>\n",
              "    </tr>\n",
              "    <tr>\n",
              "      <th>...</th>\n",
              "      <td>...</td>\n",
              "      <td>...</td>\n",
              "      <td>...</td>\n",
              "      <td>...</td>\n",
              "      <td>...</td>\n",
              "      <td>...</td>\n",
              "      <td>...</td>\n",
              "    </tr>\n",
              "    <tr>\n",
              "      <th>245</th>\n",
              "      <td>False</td>\n",
              "      <td>False</td>\n",
              "      <td>False</td>\n",
              "      <td>False</td>\n",
              "      <td>False</td>\n",
              "      <td>False</td>\n",
              "      <td>False</td>\n",
              "    </tr>\n",
              "    <tr>\n",
              "      <th>246</th>\n",
              "      <td>False</td>\n",
              "      <td>False</td>\n",
              "      <td>False</td>\n",
              "      <td>False</td>\n",
              "      <td>False</td>\n",
              "      <td>False</td>\n",
              "      <td>False</td>\n",
              "    </tr>\n",
              "    <tr>\n",
              "      <th>247</th>\n",
              "      <td>False</td>\n",
              "      <td>False</td>\n",
              "      <td>False</td>\n",
              "      <td>False</td>\n",
              "      <td>False</td>\n",
              "      <td>False</td>\n",
              "      <td>False</td>\n",
              "    </tr>\n",
              "    <tr>\n",
              "      <th>248</th>\n",
              "      <td>False</td>\n",
              "      <td>False</td>\n",
              "      <td>False</td>\n",
              "      <td>False</td>\n",
              "      <td>False</td>\n",
              "      <td>False</td>\n",
              "      <td>False</td>\n",
              "    </tr>\n",
              "    <tr>\n",
              "      <th>249</th>\n",
              "      <td>False</td>\n",
              "      <td>False</td>\n",
              "      <td>False</td>\n",
              "      <td>False</td>\n",
              "      <td>False</td>\n",
              "      <td>False</td>\n",
              "      <td>False</td>\n",
              "    </tr>\n",
              "  </tbody>\n",
              "</table>\n",
              "<p>250 rows × 7 columns</p>\n",
              "</div>"
            ],
            "text/plain": [
              "        IR     MR     FF     CR     CO     OP  Class\n",
              "0    False  False  False  False  False  False  False\n",
              "1    False  False  False  False  False  False  False\n",
              "2    False  False  False  False  False  False  False\n",
              "3    False  False  False  False  False  False  False\n",
              "4    False  False  False  False  False  False  False\n",
              "..     ...    ...    ...    ...    ...    ...    ...\n",
              "245  False  False  False  False  False  False  False\n",
              "246  False  False  False  False  False  False  False\n",
              "247  False  False  False  False  False  False  False\n",
              "248  False  False  False  False  False  False  False\n",
              "249  False  False  False  False  False  False  False\n",
              "\n",
              "[250 rows x 7 columns]"
            ]
          },
          "metadata": {
            "tags": []
          },
          "execution_count": 9
        }
      ]
    },
    {
      "cell_type": "code",
      "metadata": {
        "id": "XAnEsOiIAMW6"
      },
      "source": [
        "###datapreprocessing \n",
        "#deal with missing values\n",
        "##handle categorical data"
      ],
      "execution_count": null,
      "outputs": []
    },
    {
      "cell_type": "code",
      "metadata": {
        "colab": {
          "base_uri": "https://localhost:8080/",
          "height": 166
        },
        "id": "x9yuldoSlAU-",
        "outputId": "faf0239a-4015-4a16-9bb2-3e6825f6ea81"
      },
      "source": [
        "df[df.columns[0:1]].describe()"
      ],
      "execution_count": null,
      "outputs": [
        {
          "output_type": "execute_result",
          "data": {
            "text/html": [
              "<div>\n",
              "<style scoped>\n",
              "    .dataframe tbody tr th:only-of-type {\n",
              "        vertical-align: middle;\n",
              "    }\n",
              "\n",
              "    .dataframe tbody tr th {\n",
              "        vertical-align: top;\n",
              "    }\n",
              "\n",
              "    .dataframe thead th {\n",
              "        text-align: right;\n",
              "    }\n",
              "</style>\n",
              "<table border=\"1\" class=\"dataframe\">\n",
              "  <thead>\n",
              "    <tr style=\"text-align: right;\">\n",
              "      <th></th>\n",
              "      <th>IR</th>\n",
              "    </tr>\n",
              "  </thead>\n",
              "  <tbody>\n",
              "    <tr>\n",
              "      <th>count</th>\n",
              "      <td>250</td>\n",
              "    </tr>\n",
              "    <tr>\n",
              "      <th>unique</th>\n",
              "      <td>3</td>\n",
              "    </tr>\n",
              "    <tr>\n",
              "      <th>top</th>\n",
              "      <td>N</td>\n",
              "    </tr>\n",
              "    <tr>\n",
              "      <th>freq</th>\n",
              "      <td>89</td>\n",
              "    </tr>\n",
              "  </tbody>\n",
              "</table>\n",
              "</div>"
            ],
            "text/plain": [
              "         IR\n",
              "count   250\n",
              "unique    3\n",
              "top       N\n",
              "freq     89"
            ]
          },
          "metadata": {
            "tags": []
          },
          "execution_count": 11
        }
      ]
    },
    {
      "cell_type": "code",
      "metadata": {
        "colab": {
          "base_uri": "https://localhost:8080/"
        },
        "id": "iZtvJLFdlD6O",
        "outputId": "723e1597-3b12-4bc5-96ce-eb6b4a307952"
      },
      "source": [
        "## It gives the unique label of each column\n",
        "\n",
        "for col in df:\n",
        "    print (col)\n",
        "    print (df[col].unique())"
      ],
      "execution_count": null,
      "outputs": [
        {
          "output_type": "stream",
          "text": [
            "IR\n",
            "['P' 'N' 'A']\n",
            "MR\n",
            "['P' 'N' 'A']\n",
            "FF\n",
            "['A' 'P' 'N']\n",
            "CR\n",
            "['A' 'P' 'N']\n",
            "CO\n",
            "['A' 'P' 'N']\n",
            "OP\n",
            "['P' 'N' 'A']\n",
            "Class\n",
            "['NB' 'B']\n"
          ],
          "name": "stdout"
        }
      ]
    },
    {
      "cell_type": "code",
      "metadata": {
        "colab": {
          "base_uri": "https://localhost:8080/"
        },
        "id": "FZX4AMBilEfn",
        "outputId": "b06bc371-fcd3-4968-c987-5e7bf28ca382"
      },
      "source": [
        "# var = ['IR','MR','Financial Flexibility','Credibility','Competitiveness', 'OperatingRisk', 'Class']\n",
        "var = ['IR','MR','FF','CR','CO', 'OP', 'Class']\n",
        "var"
      ],
      "execution_count": null,
      "outputs": [
        {
          "output_type": "execute_result",
          "data": {
            "text/plain": [
              "['IR', 'MR', 'FF', 'CR', 'CO', 'OP', 'Class']"
            ]
          },
          "metadata": {
            "tags": []
          },
          "execution_count": 13
        }
      ]
    },
    {
      "cell_type": "code",
      "metadata": {
        "colab": {
          "base_uri": "https://localhost:8080/",
          "height": 166
        },
        "id": "EH2MIE_oneEM",
        "outputId": "05c9757e-a65e-4b05-89ee-a150373f3c8d"
      },
      "source": [
        "df.describe()"
      ],
      "execution_count": null,
      "outputs": [
        {
          "output_type": "execute_result",
          "data": {
            "text/html": [
              "<div>\n",
              "<style scoped>\n",
              "    .dataframe tbody tr th:only-of-type {\n",
              "        vertical-align: middle;\n",
              "    }\n",
              "\n",
              "    .dataframe tbody tr th {\n",
              "        vertical-align: top;\n",
              "    }\n",
              "\n",
              "    .dataframe thead th {\n",
              "        text-align: right;\n",
              "    }\n",
              "</style>\n",
              "<table border=\"1\" class=\"dataframe\">\n",
              "  <thead>\n",
              "    <tr style=\"text-align: right;\">\n",
              "      <th></th>\n",
              "      <th>IR</th>\n",
              "      <th>MR</th>\n",
              "      <th>FF</th>\n",
              "      <th>CR</th>\n",
              "      <th>CO</th>\n",
              "      <th>OP</th>\n",
              "      <th>Class</th>\n",
              "    </tr>\n",
              "  </thead>\n",
              "  <tbody>\n",
              "    <tr>\n",
              "      <th>count</th>\n",
              "      <td>250</td>\n",
              "      <td>250</td>\n",
              "      <td>250</td>\n",
              "      <td>250</td>\n",
              "      <td>250</td>\n",
              "      <td>250</td>\n",
              "      <td>250</td>\n",
              "    </tr>\n",
              "    <tr>\n",
              "      <th>unique</th>\n",
              "      <td>3</td>\n",
              "      <td>3</td>\n",
              "      <td>3</td>\n",
              "      <td>3</td>\n",
              "      <td>3</td>\n",
              "      <td>3</td>\n",
              "      <td>2</td>\n",
              "    </tr>\n",
              "    <tr>\n",
              "      <th>top</th>\n",
              "      <td>N</td>\n",
              "      <td>N</td>\n",
              "      <td>N</td>\n",
              "      <td>N</td>\n",
              "      <td>N</td>\n",
              "      <td>N</td>\n",
              "      <td>NB</td>\n",
              "    </tr>\n",
              "    <tr>\n",
              "      <th>freq</th>\n",
              "      <td>89</td>\n",
              "      <td>119</td>\n",
              "      <td>119</td>\n",
              "      <td>94</td>\n",
              "      <td>103</td>\n",
              "      <td>114</td>\n",
              "      <td>143</td>\n",
              "    </tr>\n",
              "  </tbody>\n",
              "</table>\n",
              "</div>"
            ],
            "text/plain": [
              "         IR   MR   FF   CR   CO   OP Class\n",
              "count   250  250  250  250  250  250   250\n",
              "unique    3    3    3    3    3    3     2\n",
              "top       N    N    N    N    N    N    NB\n",
              "freq     89  119  119   94  103  114   143"
            ]
          },
          "metadata": {
            "tags": []
          },
          "execution_count": 14
        }
      ]
    },
    {
      "cell_type": "code",
      "metadata": {
        "id": "mVpk0_eAnEBK"
      },
      "source": [
        "from sklearn.preprocessing import LabelEncoder\n",
        "def func_labelEncoder(var,features):\n",
        "    encode= LabelEncoder()\n",
        "    features[var] = encode.fit_transform(features[var].astype(str))\n",
        "    \n",
        "for i in var:\n",
        "    func_labelEncoder(i,df)"
      ],
      "execution_count": null,
      "outputs": []
    },
    {
      "cell_type": "code",
      "metadata": {
        "colab": {
          "base_uri": "https://localhost:8080/",
          "height": 195
        },
        "id": "XAAIY3i3oocK",
        "outputId": "58dd9841-2194-4358-8f9d-6a513e037f33"
      },
      "source": [
        "df.head()"
      ],
      "execution_count": null,
      "outputs": [
        {
          "output_type": "execute_result",
          "data": {
            "text/html": [
              "<div>\n",
              "<style scoped>\n",
              "    .dataframe tbody tr th:only-of-type {\n",
              "        vertical-align: middle;\n",
              "    }\n",
              "\n",
              "    .dataframe tbody tr th {\n",
              "        vertical-align: top;\n",
              "    }\n",
              "\n",
              "    .dataframe thead th {\n",
              "        text-align: right;\n",
              "    }\n",
              "</style>\n",
              "<table border=\"1\" class=\"dataframe\">\n",
              "  <thead>\n",
              "    <tr style=\"text-align: right;\">\n",
              "      <th></th>\n",
              "      <th>IR</th>\n",
              "      <th>MR</th>\n",
              "      <th>FF</th>\n",
              "      <th>CR</th>\n",
              "      <th>CO</th>\n",
              "      <th>OP</th>\n",
              "      <th>Class</th>\n",
              "    </tr>\n",
              "  </thead>\n",
              "  <tbody>\n",
              "    <tr>\n",
              "      <th>0</th>\n",
              "      <td>2</td>\n",
              "      <td>2</td>\n",
              "      <td>0</td>\n",
              "      <td>0</td>\n",
              "      <td>0</td>\n",
              "      <td>2</td>\n",
              "      <td>1</td>\n",
              "    </tr>\n",
              "    <tr>\n",
              "      <th>1</th>\n",
              "      <td>1</td>\n",
              "      <td>1</td>\n",
              "      <td>0</td>\n",
              "      <td>0</td>\n",
              "      <td>0</td>\n",
              "      <td>1</td>\n",
              "      <td>1</td>\n",
              "    </tr>\n",
              "    <tr>\n",
              "      <th>2</th>\n",
              "      <td>0</td>\n",
              "      <td>0</td>\n",
              "      <td>0</td>\n",
              "      <td>0</td>\n",
              "      <td>0</td>\n",
              "      <td>0</td>\n",
              "      <td>1</td>\n",
              "    </tr>\n",
              "    <tr>\n",
              "      <th>3</th>\n",
              "      <td>2</td>\n",
              "      <td>2</td>\n",
              "      <td>2</td>\n",
              "      <td>2</td>\n",
              "      <td>2</td>\n",
              "      <td>2</td>\n",
              "      <td>1</td>\n",
              "    </tr>\n",
              "    <tr>\n",
              "      <th>4</th>\n",
              "      <td>1</td>\n",
              "      <td>1</td>\n",
              "      <td>2</td>\n",
              "      <td>2</td>\n",
              "      <td>2</td>\n",
              "      <td>1</td>\n",
              "      <td>1</td>\n",
              "    </tr>\n",
              "  </tbody>\n",
              "</table>\n",
              "</div>"
            ],
            "text/plain": [
              "   IR  MR  FF  CR  CO  OP  Class\n",
              "0   2   2   0   0   0   2      1\n",
              "1   1   1   0   0   0   1      1\n",
              "2   0   0   0   0   0   0      1\n",
              "3   2   2   2   2   2   2      1\n",
              "4   1   1   2   2   2   1      1"
            ]
          },
          "metadata": {
            "tags": []
          },
          "execution_count": 16
        }
      ]
    },
    {
      "cell_type": "code",
      "metadata": {
        "colab": {
          "base_uri": "https://localhost:8080/"
        },
        "id": "bqnPhrJZowt8",
        "outputId": "3d0e095e-e0d2-4fea-f878-39656d8e9c8a"
      },
      "source": [
        "df.isnull().any()"
      ],
      "execution_count": null,
      "outputs": [
        {
          "output_type": "execute_result",
          "data": {
            "text/plain": [
              "IR       False\n",
              "MR       False\n",
              "FF       False\n",
              "CR       False\n",
              "CO       False\n",
              "OP       False\n",
              "Class    False\n",
              "dtype: bool"
            ]
          },
          "metadata": {
            "tags": []
          },
          "execution_count": 17
        }
      ]
    },
    {
      "cell_type": "code",
      "metadata": {
        "colab": {
          "base_uri": "https://localhost:8080/",
          "height": 335
        },
        "id": "LAC7X3buozmr",
        "outputId": "6383d145-6d4f-44d2-a6e2-6475fadfc17b"
      },
      "source": [
        "df[df.columns[0:1]].hist(figsize=(5, 5), bins=5, xlabelsize=8, ylabelsize=8);"
      ],
      "execution_count": null,
      "outputs": [
        {
          "output_type": "display_data",
          "data": {
            "image/png": "[encoded data removed]",
            "text/plain": [
              "<Figure size 360x360 with 1 Axes>"
            ]
          },
          "metadata": {
            "tags": [],
            "needs_background": "light"
          }
        }
      ]
    },
    {
      "cell_type": "code",
      "metadata": {
        "id": "BdXp1Szpo2-Z"
      },
      "source": [
        "from sklearn.utils import shuffle\n",
        "\n",
        "X = df.values[:,1:]\n",
        "y = df.values[:,0]\n",
        "\n",
        "X, y = shuffle(X, y)"
      ],
      "execution_count": null,
      "outputs": []
    },
    {
      "cell_type": "markdown",
      "metadata": {
        "id": "_6xEfAnkpLRi"
      },
      "source": [
        "## 1. Decison Tree\n",
        "\n"
      ]
    },
    {
      "cell_type": "code",
      "metadata": {
        "colab": {
          "base_uri": "https://localhost:8080/",
          "height": 518
        },
        "id": "IT9cx-tQo7VX",
        "outputId": "0acdf5e6-bd8d-450e-ae5a-b81ea8310720"
      },
      "source": [
        "from sklearn.tree import DecisionTreeClassifier\n",
        "from sklearn.model_selection import train_test_split\n",
        "###Split into training and testing\n",
        "X_train, X_test, y_train, y_test = train_test_split(X[:250], y[:250], test_size=0.2, random_state=0)\n",
        "print(X_train.shape)\n",
        "print(X_test.shape)\n",
        "\n",
        "###Standardization\n",
        "from sklearn.preprocessing import StandardScaler\n",
        "sc=StandardScaler()\n",
        "X_train_std=sc.fit_transform(X_train)\n",
        "X_test_std=sc.transform(X_test)\n",
        "\n",
        "######Performace Measure\n",
        "clf = DecisionTreeClassifier(random_state=0)\n",
        "clf.fit(X_train, y_train)\n",
        "pred_train=clf.predict(X_train_std)\n",
        "pred_test=clf.predict(X_test_std)\n",
        "print(\"Training accuracy:\", clf.score(X_train, y_train))\n",
        "print(\"Testing accuracy:\", clf.score(X_test, y_test))\n",
        "\n",
        "####Classification report\n",
        "from sklearn.metrics import classification_report\n",
        "cpr=classification_report(pred_test,y_test)\n",
        "print(cpr)\n",
        "\n",
        "###Confusion Matrix\n",
        "from sklearn.metrics import plot_confusion_matrix\n",
        "cp=plot_confusion_matrix(clf,X_test_std,y_test)"
      ],
      "execution_count": null,
      "outputs": [
        {
          "output_type": "stream",
          "text": [
            "(200, 6)\n",
            "(50, 6)\n",
            "Training accuracy: 0.75\n",
            "Testing accuracy: 0.64\n",
            "              precision    recall  f1-score   support\n",
            "\n",
            "           0       0.59      0.29      0.38        35\n",
            "           1       0.00      0.00      0.00         2\n",
            "           2       0.19      0.23      0.21        13\n",
            "\n",
            "    accuracy                           0.26        50\n",
            "   macro avg       0.26      0.17      0.20        50\n",
            "weighted avg       0.46      0.26      0.32        50\n",
            "\n"
          ],
          "name": "stdout"
        },
        {
          "output_type": "display_data",
          "data": {
            "image/png": "[encoded data removed]",
            "text/plain": [
              "<Figure size 432x288 with 2 Axes>"
            ]
          },
          "metadata": {
            "tags": [],
            "needs_background": "light"
          }
        }
      ]
    },
    {
      "cell_type": "markdown",
      "metadata": {
        "id": "CLMVZYDPpSjH"
      },
      "source": [
        "## 2. Random Forest"
      ]
    },
    {
      "cell_type": "code",
      "metadata": {
        "colab": {
          "base_uri": "https://localhost:8080/",
          "height": 531
        },
        "id": "JcL4_ff7pQ0u",
        "outputId": "15709afb-0809-41ff-9664-4835726716f7"
      },
      "source": [
        "from sklearn.ensemble import RandomForestClassifier\n",
        "from sklearn.model_selection import train_test_split\n",
        "\n",
        "X_train, X_test, y_train, y_test = train_test_split(X[:250], y[:250], test_size=0.2, random_state=0)\n",
        "print(X_train.shape)\n",
        "print(X_test.shape)\n",
        "\n",
        "###Standardization\n",
        "from sklearn.preprocessing import StandardScaler\n",
        "sc=StandardScaler()\n",
        "X_train_std=sc.fit_transform(X_train)\n",
        "X_test_std=sc.transform(X_test)\n",
        "\n",
        "\n",
        "\n",
        "#create a RandomForestClassifier with 5 estimators\n",
        "clf = RandomForestClassifier(n_estimators=5)\n",
        "clf.fit(X_train, y_train)\n",
        "pred_train=clf.predict(X_train_std)\n",
        "pred_test=clf.predict(X_test_std)\n",
        "print(\"Training done\")\n",
        "print(\"Training accuracy: \", clf.score(X_train, y_train))\n",
        "print(\"Test set accuracy: \", clf.score(X_test, y_test))\n",
        "\n",
        "####Classification report\n",
        "from sklearn.metrics import classification_report\n",
        "cpr=classification_report(pred_test,y_test)\n",
        "print(cpr)\n",
        "\n",
        "###Confusion Matrix\n",
        "from sklearn.metrics import plot_confusion_matrix\n",
        "cp=plot_confusion_matrix(clf,X_test_std,y_test)\n",
        "\n"
      ],
      "execution_count": null,
      "outputs": [
        {
          "output_type": "stream",
          "text": [
            "(200, 6)\n",
            "(50, 6)\n",
            "Training done\n",
            "Training accuracy:  0.735\n",
            "Test set accuracy:  0.66\n",
            "              precision    recall  f1-score   support\n",
            "\n",
            "           0       0.71      0.33      0.45        36\n",
            "           1       0.00      0.00      0.00         3\n",
            "           2       0.12      0.18      0.15        11\n",
            "\n",
            "    accuracy                           0.28        50\n",
            "   macro avg       0.28      0.17      0.20        50\n",
            "weighted avg       0.54      0.28      0.36        50\n",
            "\n"
          ],
          "name": "stdout"
        },
        {
          "output_type": "display_data",
          "data": {
            "image/png": "[encoded data removed]",
            "text/plain": [
              "<Figure size 432x288 with 2 Axes>"
            ]
          },
          "metadata": {
            "tags": [],
            "needs_background": "light"
          }
        }
      ]
    },
    {
      "cell_type": "markdown",
      "metadata": {
        "id": "kmYQyJ1cYpDR"
      },
      "source": [
        "3.K Neighbours Classifier"
      ]
    },
    {
      "cell_type": "code",
      "metadata": {
        "id": "kKmqSa7UMuWN",
        "colab": {
          "base_uri": "https://localhost:8080/",
          "height": 535
        },
        "outputId": "0cdf3265-9fb8-4fc2-eda1-d0d569139362"
      },
      "source": [
        "from sklearn.neighbors import KNeighborsClassifier\n",
        "from sklearn.model_selection import train_test_split\n",
        "X_train, X_test, y_train, y_test = train_test_split(X[:250], y[:250], test_size=0.2, random_state=0)\n",
        "print(X_train.shape)\n",
        "print(X_test.shape)\n",
        "\n",
        "###Standardization\n",
        "from sklearn.preprocessing import StandardScaler\n",
        "sc=StandardScaler()\n",
        "X_train_std=sc.fit_transform(X_train)\n",
        "X_test_std=sc.transform(X_test)\n",
        "\n",
        "\n",
        "clf=KNeighborsClassifier(n_neighbors=2)\n",
        "clf.fit(X_train,y_train)\n",
        "pred_train=clf.predict(X_train_std)\n",
        "pred_test=clf.predict(X_test_std)\n",
        "print(\"Training done\")\n",
        "print(\"Training accuracy: \", clf.score(X_train, y_train))\n",
        "print(\"Test set accuracy: \", clf.score(X_test, y_test))\n",
        "\n",
        "####Classification report\n",
        "from sklearn.metrics import classification_report\n",
        "cpr=classification_report(pred_test,y_test)\n",
        "print(cpr)\n",
        "\n",
        "\n",
        "\n",
        "###Confusion Matrix\n",
        "from sklearn.metrics import plot_confusion_matrix\n",
        "cp=plot_confusion_matrix(clf,X_test_std,y_test)\n",
        "\n",
        "\n"
      ],
      "execution_count": null,
      "outputs": [
        {
          "output_type": "stream",
          "text": [
            "(200, 6)\n",
            "(50, 6)\n",
            "Training done\n",
            "Training accuracy:  0.675\n",
            "Test set accuracy:  0.62\n",
            "              precision    recall  f1-score   support\n",
            "\n",
            "           0       0.47      0.47      0.47        17\n",
            "           1       0.29      0.62      0.40         8\n",
            "           2       0.62      0.40      0.49        25\n",
            "\n",
            "    accuracy                           0.46        50\n",
            "   macro avg       0.46      0.50      0.45        50\n",
            "weighted avg       0.52      0.46      0.47        50\n",
            "\n"
          ],
          "name": "stdout"
        },
        {
          "output_type": "display_data",
          "data": {
            "image/png": "[encoded data removed]",
            "text/plain": [
              "<Figure size 432x288 with 2 Axes>"
            ]
          },
          "metadata": {
            "tags": [],
            "needs_background": "light"
          }
        }
      ]
    }
  ]
}