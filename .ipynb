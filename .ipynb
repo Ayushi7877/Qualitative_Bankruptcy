import pandas as pd df=pd.read_csv('/content/qualitative_bankruptcy dataset.csv')
df.columns=['IR','MR','FF','CR','CO','OP','Class'] print(df) print(df.info())
# information about dataset 
print(df.describe())
df.head() 
df.values.shape 
df.isnull()
df[df.columns[0:1]].describe()

It gives the unique label of each column
for col in df: print (col) print (df[col].unique())

var = ['IR','MR','Financial Flexibility','Credibility','Competitiveness', 'OperatingRisk', 'Class']
var = ['IR','MR','FF','CR','CO', 'OP', 'Class'] var df.describe() from sklearn.preprocessing import LabelEncoder def func_labelEncoder(var,features): encode= LabelEncoder() features[var] = encode.fit_transform(features[var].astype(str))

for i in var: func_labelEncoder(i,df) 
df.head() 
df.isnull().any()
df[df.columns[0:1]].hist(figsize=(5, 5), bins=5, xlabelsize=8, ylabelsize=8); from sklearn.utils import shuffle

X = df.values[:,1:] y = df.values[:,0]

X, y = shuffle(X, y) from sklearn.tree import DecisionTreeClassifier from sklearn.model_selection import train_test_split ###Split into training and testing X_train, X_test, y_train, y_test = train_test_split(X[:250], y[:250], test_size=0.2, random_state=0) print(X_train.shape) print(X_test.shape)

###Standardization 
from sklearn.preprocessing import StandardScaler 
sc=StandardScaler()
X_train_std=sc.fit_transform(X_train)
X_test_std=sc.transform(X_test)

######Performace 
Measure clf = DecisionTreeClassifier(random_state=0) 
clf.fit(X_train, y_train) 
pred_train=clf.predict(X_train_std) 
pred_test=clf.predict(X_test_std)
print("Training accuracy:", clf.score(X_train, y_train)) 
print("Testing accuracy:", clf.score(X_test, y_test))

####Classification report
from sklearn.metrics import classification_report 
cpr=classification_report(pred_test,y_test)
print(cpr)

###Confusion Matrix
from sklearn.metrics import plot_confusion_matrix
cp=plot_confusion_matrix(clf,X_test_std,y_test)

from sklearn.ensemble import RandomForestClassifier 
from sklearn.model_selection import train_test_split

X_train, X_test, y_train, y_test = train_test_split(X[:250], y[:250], test_size=0.2, random_state=0) print(X_train.shape) print(X_test.shape)

###Standardization
from sklearn.preprocessing import StandardScaler
sc=StandardScaler() 
X_train_std=sc.fit_transform(X_train)
X_test_std=sc.transform(X_test)

#create a RandomForestClassifier with 5 estimators 
clf = RandomForestClassifier(n_estimators=5) clf.fit(X_train, y_train) pred_train=clf.predict(X_train_std) pred_test=clf.predict(X_test_std) print("Training done") print("Training accuracy: ", clf.score(X_train, y_train)) print("Test set accuracy: ", clf.score(X_test, y_test))

####Classification report 
from sklearn.metrics import classification_report cpr=classification_report(pred_test,y_test) print(cpr)

###Confusion Matrix from sklearn.metrics 
import plot_confusion_matrix
cp=plot_confusion_matrix(clf,X_test_std,y_test)

from sklearn.neighbors import KNeighborsClassifier from sklearn.model_selection import train_test_split X_train, X_test, y_train, y_test = train_test_split(X[:250], y[:250], test_size=0.2, random_state=0) print(X_train.shape) print(X_test.shape)

###Standardization
from sklearn.preprocessing import StandardScaler
sc=StandardScaler() 
X_train_std=sc.fit_transform(X_train)
X_test_std=sc.transform(X_test)

clf=KNeighborsClassifier(n_neighbors=2) clf.fit(X_train,y_train) pred_train=clf.predict(X_train_std) pred_test=clf.predict(X_test_std) print("Training done") print("Training accuracy: ", clf.score(X_train, y_train)) print("Test set accuracy: ", clf.score(X_test, y_test))

####Classification report

from sklearn.metrics import classification_report 
cpr=classification_report(pred_test,y_test) 
print(cpr)

###Confusion Matrix 
from sklearn.metrics import plot_confusion_matrix
cp=plot_confusion_matrix(clf,X_test_std,y_test)
